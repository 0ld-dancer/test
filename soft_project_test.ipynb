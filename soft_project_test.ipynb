{
 "cells": [
  {
   "cell_type": "code",
   "execution_count": 1,
   "metadata": {},
   "outputs": [],
   "source": [
    "%load_ext sql"
   ]
  },
  {
   "cell_type": "code",
   "execution_count": 2,
   "metadata": {},
   "outputs": [],
   "source": [
    "%sql sqlite://"
   ]
  },
  {
   "cell_type": "markdown",
   "metadata": {},
   "source": [
    "### 1. Таблица Account_levels.\n",
    "\n",
    "Показать количество активных пользователей посуточно (без учета blocked и suspended пользователей)."
   ]
  },
  {
   "cell_type": "code",
   "execution_count": 3,
   "metadata": {},
   "outputs": [
    {
     "name": "stdout",
     "output_type": "stream",
     "text": [
      " * sqlite://\n",
      "Done.\n"
     ]
    },
    {
     "data": {
      "text/plain": [
       "[]"
      ]
     },
     "execution_count": 3,
     "metadata": {},
     "output_type": "execute_result"
    }
   ],
   "source": [
    "%%sql\n",
    "CREATE TABLE Account_levels(\n",
    "        name TEXT,\n",
    "        basic INTEGER,\n",
    "        business INTEGER,\n",
    "        wholesale INTEGER,\n",
    "        date TEXT);"
   ]
  },
  {
   "cell_type": "code",
   "execution_count": 4,
   "metadata": {},
   "outputs": [
    {
     "name": "stdout",
     "output_type": "stream",
     "text": [
      " * sqlite://\n",
      "6 rows affected.\n"
     ]
    },
    {
     "data": {
      "text/plain": [
       "[]"
      ]
     },
     "execution_count": 4,
     "metadata": {},
     "output_type": "execute_result"
    }
   ],
   "source": [
    "%%sql\n",
    "INSERT INTO Account_levels\n",
    "VALUES ('total_count', 1000, 500, 100, DATETIME('2021-01-01')),\n",
    "       ('total_count', 1010, 507, 101, DATETIME('2021-01-02')),\n",
    "       ('suspended_count', 200, 100, 50, DATETIME('2021-01-01')),\n",
    "       ('suspended_count', 201, 105, 48, DATETIME('2021-01-02')),\n",
    "       ('blocked_count', 100, 50, 10, DATETIME('2021-01-01')),\n",
    "       ('blocked_count', 101, 53, 12, DATETIME('2021-01-02'));"
   ]
  },
  {
   "cell_type": "code",
   "execution_count": 5,
   "metadata": {},
   "outputs": [
    {
     "name": "stdout",
     "output_type": "stream",
     "text": [
      " * sqlite://\n",
      "Done.\n"
     ]
    },
    {
     "data": {
      "text/html": [
       "<table>\n",
       "    <tr>\n",
       "        <th>name</th>\n",
       "        <th>basic</th>\n",
       "        <th>business</th>\n",
       "        <th>wholesale</th>\n",
       "        <th>date</th>\n",
       "    </tr>\n",
       "    <tr>\n",
       "        <td>total_count</td>\n",
       "        <td>1000</td>\n",
       "        <td>500</td>\n",
       "        <td>100</td>\n",
       "        <td>2021-01-01 00:00:00</td>\n",
       "    </tr>\n",
       "    <tr>\n",
       "        <td>total_count</td>\n",
       "        <td>1010</td>\n",
       "        <td>507</td>\n",
       "        <td>101</td>\n",
       "        <td>2021-01-02 00:00:00</td>\n",
       "    </tr>\n",
       "    <tr>\n",
       "        <td>suspended_count</td>\n",
       "        <td>200</td>\n",
       "        <td>100</td>\n",
       "        <td>50</td>\n",
       "        <td>2021-01-01 00:00:00</td>\n",
       "    </tr>\n",
       "    <tr>\n",
       "        <td>suspended_count</td>\n",
       "        <td>201</td>\n",
       "        <td>105</td>\n",
       "        <td>48</td>\n",
       "        <td>2021-01-02 00:00:00</td>\n",
       "    </tr>\n",
       "    <tr>\n",
       "        <td>blocked_count</td>\n",
       "        <td>100</td>\n",
       "        <td>50</td>\n",
       "        <td>10</td>\n",
       "        <td>2021-01-01 00:00:00</td>\n",
       "    </tr>\n",
       "    <tr>\n",
       "        <td>blocked_count</td>\n",
       "        <td>101</td>\n",
       "        <td>53</td>\n",
       "        <td>12</td>\n",
       "        <td>2021-01-02 00:00:00</td>\n",
       "    </tr>\n",
       "</table>"
      ],
      "text/plain": [
       "[('total_count', 1000, 500, 100, '2021-01-01 00:00:00'),\n",
       " ('total_count', 1010, 507, 101, '2021-01-02 00:00:00'),\n",
       " ('suspended_count', 200, 100, 50, '2021-01-01 00:00:00'),\n",
       " ('suspended_count', 201, 105, 48, '2021-01-02 00:00:00'),\n",
       " ('blocked_count', 100, 50, 10, '2021-01-01 00:00:00'),\n",
       " ('blocked_count', 101, 53, 12, '2021-01-02 00:00:00')]"
      ]
     },
     "execution_count": 5,
     "metadata": {},
     "output_type": "execute_result"
    }
   ],
   "source": [
    "%%sql\n",
    "SELECT *\n",
    "  FROM Account_levels"
   ]
  },
  {
   "cell_type": "code",
   "execution_count": 6,
   "metadata": {},
   "outputs": [
    {
     "name": "stdout",
     "output_type": "stream",
     "text": [
      " * sqlite://\n",
      "Done.\n"
     ]
    },
    {
     "data": {
      "text/html": [
       "<table>\n",
       "    <tr>\n",
       "        <th>basic</th>\n",
       "        <th>business</th>\n",
       "        <th>wholesale</th>\n",
       "        <th>date</th>\n",
       "    </tr>\n",
       "    <tr>\n",
       "        <td>700</td>\n",
       "        <td>350</td>\n",
       "        <td>40</td>\n",
       "        <td>2021-01-01 00:00:00</td>\n",
       "    </tr>\n",
       "    <tr>\n",
       "        <td>708</td>\n",
       "        <td>349</td>\n",
       "        <td>41</td>\n",
       "        <td>2021-01-02 00:00:00</td>\n",
       "    </tr>\n",
       "</table>"
      ],
      "text/plain": [
       "[(700, 350, 40, '2021-01-01 00:00:00'), (708, 349, 41, '2021-01-02 00:00:00')]"
      ]
     },
     "execution_count": 6,
     "metadata": {},
     "output_type": "execute_result"
    }
   ],
   "source": [
    "%%sql\n",
    "SELECT SUM(CASE name\n",
    "           WHEN 'total_count' THEN basic\n",
    "           ELSE -basic\n",
    "            END\n",
    "          ) AS basic,\n",
    "\n",
    "       SUM(CASE name\n",
    "           WHEN 'total_count' THEN business\n",
    "           ELSE -business\n",
    "            END\n",
    "          ) AS business,\n",
    "    \n",
    "       SUM(CASE name\n",
    "           WHEN 'total_count' THEN wholesale\n",
    "           ELSE -wholesale\n",
    "            END\n",
    "          ) AS wholesale, date\n",
    "  FROM Account_levels\n",
    " GROUP BY date;"
   ]
  },
  {
   "cell_type": "markdown",
   "metadata": {},
   "source": [
    "### 2. Таблица Commitment_fees.\n",
    "2.1 Показать таблицу: Day, Attempt_amount, Success_amount"
   ]
  },
  {
   "cell_type": "code",
   "execution_count": 7,
   "metadata": {},
   "outputs": [
    {
     "name": "stdout",
     "output_type": "stream",
     "text": [
      " * sqlite://\n",
      "Done.\n"
     ]
    },
    {
     "data": {
      "text/plain": [
       "[]"
      ]
     },
     "execution_count": 7,
     "metadata": {},
     "output_type": "execute_result"
    }
   ],
   "source": [
    "%%sql\n",
    "CREATE TABLE  Commitment_fees(\n",
    "        user_id INTEGER,\n",
    "        amount INTEGER,\n",
    "        success INTEGER,\n",
    "        date TEXT);"
   ]
  },
  {
   "cell_type": "code",
   "execution_count": 8,
   "metadata": {},
   "outputs": [
    {
     "name": "stdout",
     "output_type": "stream",
     "text": [
      " * sqlite://\n",
      "6 rows affected.\n"
     ]
    },
    {
     "data": {
      "text/plain": [
       "[]"
      ]
     },
     "execution_count": 8,
     "metadata": {},
     "output_type": "execute_result"
    }
   ],
   "source": [
    "%%sql\n",
    "INSERT INTO Commitment_fees\n",
    "VALUES (1000, 1000, 1, DATETIME('2021-01-01')),\n",
    "       (1001, 1010, 0, DATETIME('2021-01-01')),\n",
    "       (1002, 200, 1, DATETIME('2021-01-01')),\n",
    "       (1003, 201, 0, DATETIME('2021-01-02')),\n",
    "       (1004, 100, 0, DATETIME('2021-01-02')),\n",
    "       (1005, 101, 1, DATETIME('2021-01-02'));"
   ]
  },
  {
   "cell_type": "code",
   "execution_count": 9,
   "metadata": {},
   "outputs": [
    {
     "name": "stdout",
     "output_type": "stream",
     "text": [
      " * sqlite://\n",
      "Done.\n"
     ]
    },
    {
     "data": {
      "text/html": [
       "<table>\n",
       "    <tr>\n",
       "        <th>user_id</th>\n",
       "        <th>amount</th>\n",
       "        <th>success</th>\n",
       "        <th>date</th>\n",
       "    </tr>\n",
       "    <tr>\n",
       "        <td>1000</td>\n",
       "        <td>1000</td>\n",
       "        <td>1</td>\n",
       "        <td>2021-01-01 00:00:00</td>\n",
       "    </tr>\n",
       "    <tr>\n",
       "        <td>1001</td>\n",
       "        <td>1010</td>\n",
       "        <td>0</td>\n",
       "        <td>2021-01-01 00:00:00</td>\n",
       "    </tr>\n",
       "    <tr>\n",
       "        <td>1002</td>\n",
       "        <td>200</td>\n",
       "        <td>1</td>\n",
       "        <td>2021-01-01 00:00:00</td>\n",
       "    </tr>\n",
       "    <tr>\n",
       "        <td>1003</td>\n",
       "        <td>201</td>\n",
       "        <td>0</td>\n",
       "        <td>2021-01-02 00:00:00</td>\n",
       "    </tr>\n",
       "    <tr>\n",
       "        <td>1004</td>\n",
       "        <td>100</td>\n",
       "        <td>0</td>\n",
       "        <td>2021-01-02 00:00:00</td>\n",
       "    </tr>\n",
       "    <tr>\n",
       "        <td>1005</td>\n",
       "        <td>101</td>\n",
       "        <td>1</td>\n",
       "        <td>2021-01-02 00:00:00</td>\n",
       "    </tr>\n",
       "</table>"
      ],
      "text/plain": [
       "[(1000, 1000, 1, '2021-01-01 00:00:00'),\n",
       " (1001, 1010, 0, '2021-01-01 00:00:00'),\n",
       " (1002, 200, 1, '2021-01-01 00:00:00'),\n",
       " (1003, 201, 0, '2021-01-02 00:00:00'),\n",
       " (1004, 100, 0, '2021-01-02 00:00:00'),\n",
       " (1005, 101, 1, '2021-01-02 00:00:00')]"
      ]
     },
     "execution_count": 9,
     "metadata": {},
     "output_type": "execute_result"
    }
   ],
   "source": [
    "%%sql\n",
    "SELECT *\n",
    "  FROM Commitment_fees;"
   ]
  },
  {
   "cell_type": "code",
   "execution_count": 10,
   "metadata": {},
   "outputs": [
    {
     "name": "stdout",
     "output_type": "stream",
     "text": [
      " * sqlite://\n",
      "Done.\n"
     ]
    },
    {
     "data": {
      "text/html": [
       "<table>\n",
       "    <tr>\n",
       "        <th>Attempt_amount</th>\n",
       "        <th>Success_amount</th>\n",
       "        <th>date</th>\n",
       "    </tr>\n",
       "    <tr>\n",
       "        <td>2210</td>\n",
       "        <td>1200</td>\n",
       "        <td>2021-01-01 00:00:00</td>\n",
       "    </tr>\n",
       "    <tr>\n",
       "        <td>402</td>\n",
       "        <td>101</td>\n",
       "        <td>2021-01-02 00:00:00</td>\n",
       "    </tr>\n",
       "</table>"
      ],
      "text/plain": [
       "[(2210, 1200, '2021-01-01 00:00:00'), (402, 101, '2021-01-02 00:00:00')]"
      ]
     },
     "execution_count": 10,
     "metadata": {},
     "output_type": "execute_result"
    }
   ],
   "source": [
    "%%sql\n",
    "SELECT SUM(amount) AS Attempt_amount,\n",
    "       SUM(success * amount) AS Success_amount,\n",
    "       date\n",
    "  FROM Commitment_fees\n",
    " GROUP BY date;"
   ]
  },
  {
   "cell_type": "markdown",
   "metadata": {},
   "source": [
    "2.2 Показать таблицу: Day, Attempt_amount, Success_amount (на 30 дней раньше)\n",
    "\n",
    "Не совсем понимаю, что тут можно показать, если у меня данных всего за 2 дня.\n",
    "\n",
    "### 3. Таблица Account_levels.\n",
    "\n",
    "Оценить эффект от перехода на поминтуный биллинг"
   ]
  },
  {
   "cell_type": "code",
   "execution_count": 11,
   "metadata": {},
   "outputs": [
    {
     "name": "stdout",
     "output_type": "stream",
     "text": [
      " * sqlite://\n",
      "Done.\n"
     ]
    },
    {
     "data": {
      "text/plain": [
       "[]"
      ]
     },
     "execution_count": 11,
     "metadata": {},
     "output_type": "execute_result"
    }
   ],
   "source": [
    "%%sql\n",
    "CREATE TABLE  Account_levels_2(\n",
    "        user_id INTEGER,\n",
    "        country TEXT,\n",
    "        duration_sec INTEGER,\n",
    "        tariff_per_minute INTEGER,\n",
    "        date TEXT);"
   ]
  },
  {
   "cell_type": "code",
   "execution_count": 12,
   "metadata": {},
   "outputs": [
    {
     "name": "stdout",
     "output_type": "stream",
     "text": [
      " * sqlite://\n",
      "4 rows affected.\n"
     ]
    },
    {
     "data": {
      "text/plain": [
       "[]"
      ]
     },
     "execution_count": 12,
     "metadata": {},
     "output_type": "execute_result"
    }
   ],
   "source": [
    "%%sql\n",
    "INSERT INTO Account_levels_2\n",
    "VALUES (1000, 'UK', 103, 10, DATETIME('2021-01-01')),\n",
    "       (1001, 'US', 5, 15, DATETIME('2021-01-02')),\n",
    "       (1002, 'AU', 55, 17, DATETIME('2021-01-01')),\n",
    "       (1003, 'KZ', 342, 22, DATETIME('2021-01-02'));"
   ]
  },
  {
   "cell_type": "code",
   "execution_count": 13,
   "metadata": {},
   "outputs": [
    {
     "name": "stdout",
     "output_type": "stream",
     "text": [
      " * sqlite://\n",
      "Done.\n"
     ]
    },
    {
     "data": {
      "text/html": [
       "<table>\n",
       "    <tr>\n",
       "        <th>user_id</th>\n",
       "        <th>country</th>\n",
       "        <th>duration_sec</th>\n",
       "        <th>tariff_per_minute</th>\n",
       "        <th>date</th>\n",
       "    </tr>\n",
       "    <tr>\n",
       "        <td>1000</td>\n",
       "        <td>UK</td>\n",
       "        <td>103</td>\n",
       "        <td>10</td>\n",
       "        <td>2021-01-01 00:00:00</td>\n",
       "    </tr>\n",
       "    <tr>\n",
       "        <td>1001</td>\n",
       "        <td>US</td>\n",
       "        <td>5</td>\n",
       "        <td>15</td>\n",
       "        <td>2021-01-02 00:00:00</td>\n",
       "    </tr>\n",
       "    <tr>\n",
       "        <td>1002</td>\n",
       "        <td>AU</td>\n",
       "        <td>55</td>\n",
       "        <td>17</td>\n",
       "        <td>2021-01-01 00:00:00</td>\n",
       "    </tr>\n",
       "    <tr>\n",
       "        <td>1003</td>\n",
       "        <td>KZ</td>\n",
       "        <td>342</td>\n",
       "        <td>22</td>\n",
       "        <td>2021-01-02 00:00:00</td>\n",
       "    </tr>\n",
       "</table>"
      ],
      "text/plain": [
       "[(1000, 'UK', 103, 10, '2021-01-01 00:00:00'),\n",
       " (1001, 'US', 5, 15, '2021-01-02 00:00:00'),\n",
       " (1002, 'AU', 55, 17, '2021-01-01 00:00:00'),\n",
       " (1003, 'KZ', 342, 22, '2021-01-02 00:00:00')]"
      ]
     },
     "execution_count": 13,
     "metadata": {},
     "output_type": "execute_result"
    }
   ],
   "source": [
    "%%sql\n",
    "SELECT *\n",
    "  FROM Account_levels_2;"
   ]
  },
  {
   "cell_type": "markdown",
   "metadata": {},
   "source": [
    "Предполагаю, что ранее была посекундный биллинг - звонок 103 с оплачивается как 103/60 * тариф."
   ]
  },
  {
   "cell_type": "code",
   "execution_count": 17,
   "metadata": {},
   "outputs": [
    {
     "name": "stdout",
     "output_type": "stream",
     "text": [
      " * sqlite://\n",
      "Done.\n"
     ]
    },
    {
     "data": {
      "text/html": [
       "<table>\n",
       "    <tr>\n",
       "        <th>per_minute</th>\n",
       "        <th>per_second</th>\n",
       "        <th>profit</th>\n",
       "    </tr>\n",
       "    <tr>\n",
       "        <td>20.0</td>\n",
       "        <td>17.17</td>\n",
       "        <td>2.83</td>\n",
       "    </tr>\n",
       "    <tr>\n",
       "        <td>15.0</td>\n",
       "        <td>1.25</td>\n",
       "        <td>13.75</td>\n",
       "    </tr>\n",
       "    <tr>\n",
       "        <td>17.0</td>\n",
       "        <td>15.58</td>\n",
       "        <td>1.42</td>\n",
       "    </tr>\n",
       "    <tr>\n",
       "        <td>132.0</td>\n",
       "        <td>125.4</td>\n",
       "        <td>6.6</td>\n",
       "    </tr>\n",
       "</table>"
      ],
      "text/plain": [
       "[(20.0, 17.17, 2.83),\n",
       " (15.0, 1.25, 13.75),\n",
       " (17.0, 15.58, 1.42),\n",
       " (132.0, 125.4, 6.6)]"
      ]
     },
     "execution_count": 17,
     "metadata": {},
     "output_type": "execute_result"
    }
   ],
   "source": [
    "%%sql\n",
    "SELECT (ROUND(duration_sec/60 + 0.5) * tariff_per_minute) AS per_minute,\n",
    "       (ROUND((duration_sec * tariff_per_minute/60.0), 2)) AS per_second,\n",
    "       ROUND((ROUND(duration_sec/60 + 0.5) * tariff_per_minute\n",
    "       ) - (ROUND((duration_sec * tariff_per_minute/60.0), 2)), 2) AS profit \n",
    "  FROM Account_levels_2"
   ]
  },
  {
   "cell_type": "markdown",
   "metadata": {},
   "source": [
    "### 4. Можно ли применять GROUP BY к значениям NULL?\n",
    "\n",
    "Можно групиировать по столбцам с NULL value. Чтобы в строчке не осталась без название можно использовать функцию COALESCE."
   ]
  }
 ],
 "metadata": {
  "kernelspec": {
   "display_name": "Python 3",
   "language": "python",
   "name": "python3"
  },
  "language_info": {
   "codemirror_mode": {
    "name": "ipython",
    "version": 3
   },
   "file_extension": ".py",
   "mimetype": "text/x-python",
   "name": "python",
   "nbconvert_exporter": "python",
   "pygments_lexer": "ipython3",
   "version": "3.9.5"
  },
  "toc": {
   "base_numbering": 1,
   "nav_menu": {},
   "number_sections": false,
   "sideBar": true,
   "skip_h1_title": true,
   "title_cell": "Table of Contents",
   "title_sidebar": "Contents",
   "toc_cell": false,
   "toc_position": {},
   "toc_section_display": true,
   "toc_window_display": false
  }
 },
 "nbformat": 4,
 "nbformat_minor": 4
}
