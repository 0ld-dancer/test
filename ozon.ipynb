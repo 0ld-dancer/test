{
 "cells": [
  {
   "cell_type": "code",
   "execution_count": 1,
   "metadata": {},
   "outputs": [],
   "source": [
    "%load_ext sql"
   ]
  },
  {
   "cell_type": "code",
   "execution_count": 2,
   "metadata": {},
   "outputs": [],
   "source": [
    "%sql sqlite://"
   ]
  },
  {
   "cell_type": "markdown",
   "metadata": {},
   "source": [
    "### Задание 1\n",
    "\n",
    " Посчитать % изменение количества клиентов, совершивших покупку, месяц-к-месяцу."
   ]
  },
  {
   "cell_type": "code",
   "execution_count": 3,
   "metadata": {},
   "outputs": [
    {
     "name": "stdout",
     "output_type": "stream",
     "text": [
      " * sqlite://\n",
      "Done.\n",
      "9 rows affected.\n",
      "Done.\n"
     ]
    },
    {
     "data": {
      "text/html": [
       "<table>\n",
       "    <tr>\n",
       "        <th>client_id</th>\n",
       "        <th>order_id</th>\n",
       "        <th>order_date</th>\n",
       "    </tr>\n",
       "    <tr>\n",
       "        <td>500</td>\n",
       "        <td>11</td>\n",
       "        <td>2021-01-01 00:00:00</td>\n",
       "    </tr>\n",
       "    <tr>\n",
       "        <td>507</td>\n",
       "        <td>77</td>\n",
       "        <td>2021-01-02 00:00:00</td>\n",
       "    </tr>\n",
       "    <tr>\n",
       "        <td>53</td>\n",
       "        <td>50</td>\n",
       "        <td>2021-08-01 00:00:00</td>\n",
       "    </tr>\n",
       "    <tr>\n",
       "        <td>105</td>\n",
       "        <td>48</td>\n",
       "        <td>2021-11-11 00:00:00</td>\n",
       "    </tr>\n",
       "    <tr>\n",
       "        <td>106</td>\n",
       "        <td>48</td>\n",
       "        <td>2021-11-19 00:00:00</td>\n",
       "    </tr>\n",
       "    <tr>\n",
       "        <td>107</td>\n",
       "        <td>48</td>\n",
       "        <td>2021-11-13 00:00:00</td>\n",
       "    </tr>\n",
       "    <tr>\n",
       "        <td>105</td>\n",
       "        <td>48</td>\n",
       "        <td>2021-11-11 00:00:00</td>\n",
       "    </tr>\n",
       "    <tr>\n",
       "        <td>50</td>\n",
       "        <td>10</td>\n",
       "        <td>2021-11-05 00:00:00</td>\n",
       "    </tr>\n",
       "    <tr>\n",
       "        <td>53</td>\n",
       "        <td>12</td>\n",
       "        <td>2021-08-12 00:00:00</td>\n",
       "    </tr>\n",
       "</table>"
      ],
      "text/plain": [
       "[(500, 11, '2021-01-01 00:00:00'),\n",
       " (507, 77, '2021-01-02 00:00:00'),\n",
       " (53, 50, '2021-08-01 00:00:00'),\n",
       " (105, 48, '2021-11-11 00:00:00'),\n",
       " (106, 48, '2021-11-19 00:00:00'),\n",
       " (107, 48, '2021-11-13 00:00:00'),\n",
       " (105, 48, '2021-11-11 00:00:00'),\n",
       " (50, 10, '2021-11-05 00:00:00'),\n",
       " (53, 12, '2021-08-12 00:00:00')]"
      ]
     },
     "execution_count": 3,
     "metadata": {},
     "output_type": "execute_result"
    }
   ],
   "source": [
    "%%sql\n",
    "CREATE TABLE Orders(\n",
    "        client_id INTEGER,\n",
    "        order_id INTEGER,\n",
    "        order_date TEXT);\n",
    "\n",
    "INSERT INTO Orders\n",
    "VALUES (500, 11, DATETIME('2021-01-01')),\n",
    "       (507, 77, DATETIME('2021-01-02')),\n",
    "       (53, 50, DATETIME('2021-08-01')),\n",
    "       (105, 48, DATETIME('2021-11-11')),\n",
    "       (106, 48, DATETIME('2021-11-19')),\n",
    "       (107, 48, DATETIME('2021-11-13')),\n",
    "       (105, 48, DATETIME('2021-11-11')),\n",
    "       (50, 10, DATETIME('2021-11-05')),\n",
    "       (53, 12, DATETIME('2021-08-12'));\n",
    "        \n",
    "SELECT *\n",
    "  FROM Orders"
   ]
  },
  {
   "cell_type": "code",
   "execution_count": 14,
   "metadata": {},
   "outputs": [
    {
     "name": "stdout",
     "output_type": "stream",
     "text": [
      " * sqlite://\n",
      "Done.\n"
     ]
    },
    {
     "data": {
      "text/html": [
       "<table>\n",
       "    <tr>\n",
       "        <th>Month</th>\n",
       "        <th>diff_pct</th>\n",
       "    </tr>\n",
       "    <tr>\n",
       "        <td>01</td>\n",
       "        <td>None</td>\n",
       "    </tr>\n",
       "    <tr>\n",
       "        <td>08</td>\n",
       "        <td>-50%</td>\n",
       "    </tr>\n",
       "    <tr>\n",
       "        <td>11</td>\n",
       "        <td>300%</td>\n",
       "    </tr>\n",
       "</table>"
      ],
      "text/plain": [
       "[('01', None), ('08', '-50%'), ('11', '300%')]"
      ]
     },
     "execution_count": 14,
     "metadata": {},
     "output_type": "execute_result"
    }
   ],
   "source": [
    "%%sql\n",
    "WITH orders_by_month AS(\n",
    "            SELECT COUNT(DISTINCT client_id) AS qty,\n",
    "                   strftime('%m', order_date) AS Month,\n",
    "                   LAG(COUNT(DISTINCT client_id), 1, 0) OVER(ORDER BY 2) AS prev_qty\n",
    "              FROM Orders\n",
    "             GROUP BY 2\n",
    "                        )\n",
    "\n",
    "SELECT Month,\n",
    "       ((qty - prev_qty) * 100 / \n",
    "                        prev_qty) || \"%\" AS diff_pct\n",
    "  FROM orders_by_month;"
   ]
  },
  {
   "cell_type": "markdown",
   "metadata": {},
   "source": [
    "### Задание 2\n",
    "Вывести сумму GMV (Gross Merchandise Value) с нарастающим итогом по дням"
   ]
  },
  {
   "cell_type": "code",
   "execution_count": 6,
   "metadata": {},
   "outputs": [
    {
     "name": "stdout",
     "output_type": "stream",
     "text": [
      " * sqlite://\n",
      "Done.\n",
      "6 rows affected.\n",
      "Done.\n"
     ]
    },
    {
     "data": {
      "text/html": [
       "<table>\n",
       "    <tr>\n",
       "        <th>fact_date</th>\n",
       "        <th>gmv</th>\n",
       "    </tr>\n",
       "    <tr>\n",
       "        <td>2021-01-01 00:00:00</td>\n",
       "        <td>4372888</td>\n",
       "    </tr>\n",
       "    <tr>\n",
       "        <td>2021-11-01 00:00:00</td>\n",
       "        <td>1111111</td>\n",
       "    </tr>\n",
       "    <tr>\n",
       "        <td>2021-07-07 00:00:00</td>\n",
       "        <td>3245346</td>\n",
       "    </tr>\n",
       "    <tr>\n",
       "        <td>2021-11-11 00:00:00</td>\n",
       "        <td>123445</td>\n",
       "    </tr>\n",
       "    <tr>\n",
       "        <td>2021-07-01 00:00:00</td>\n",
       "        <td>77</td>\n",
       "    </tr>\n",
       "    <tr>\n",
       "        <td>2021-05-01 00:00:00</td>\n",
       "        <td>45430</td>\n",
       "    </tr>\n",
       "</table>"
      ],
      "text/plain": [
       "[('2021-01-01 00:00:00', 4372888),\n",
       " ('2021-11-01 00:00:00', 1111111),\n",
       " ('2021-07-07 00:00:00', 3245346),\n",
       " ('2021-11-11 00:00:00', 123445),\n",
       " ('2021-07-01 00:00:00', 77),\n",
       " ('2021-05-01 00:00:00', 45430)]"
      ]
     },
     "execution_count": 6,
     "metadata": {},
     "output_type": "execute_result"
    }
   ],
   "source": [
    "%%sql\n",
    "CREATE TABLE Gross(\n",
    "        fact_date TEXT,\n",
    "        gmv INTEGER);\n",
    "\n",
    "INSERT INTO Gross\n",
    "VALUES (DATETIME('2021-01-01'), 4372888),\n",
    "       (DATETIME('2021-11-01'), 1111111),\n",
    "       (DATETIME('2021-07-07'), 3245346),\n",
    "       (DATETIME('2021-11-11'), 123445),\n",
    "       (DATETIME('2021-07-01'), 77),\n",
    "       (DATETIME('2021-05-01'), 45430);\n",
    "    \n",
    "SELECT *\n",
    "  FROM Gross;"
   ]
  },
  {
   "cell_type": "code",
   "execution_count": 13,
   "metadata": {},
   "outputs": [
    {
     "name": "stdout",
     "output_type": "stream",
     "text": [
      " * sqlite://\n",
      "Done.\n"
     ]
    },
    {
     "data": {
      "text/html": [
       "<table>\n",
       "    <tr>\n",
       "        <th>fact_date</th>\n",
       "        <th>run_total</th>\n",
       "    </tr>\n",
       "    <tr>\n",
       "        <td>2021-01-01 00:00:00</td>\n",
       "        <td>4372888</td>\n",
       "    </tr>\n",
       "    <tr>\n",
       "        <td>2021-05-01 00:00:00</td>\n",
       "        <td>4418318</td>\n",
       "    </tr>\n",
       "    <tr>\n",
       "        <td>2021-07-01 00:00:00</td>\n",
       "        <td>4418395</td>\n",
       "    </tr>\n",
       "    <tr>\n",
       "        <td>2021-07-07 00:00:00</td>\n",
       "        <td>7663741</td>\n",
       "    </tr>\n",
       "    <tr>\n",
       "        <td>2021-11-01 00:00:00</td>\n",
       "        <td>8774852</td>\n",
       "    </tr>\n",
       "    <tr>\n",
       "        <td>2021-11-11 00:00:00</td>\n",
       "        <td>8898297</td>\n",
       "    </tr>\n",
       "</table>"
      ],
      "text/plain": [
       "[('2021-01-01 00:00:00', 4372888),\n",
       " ('2021-05-01 00:00:00', 4418318),\n",
       " ('2021-07-01 00:00:00', 4418395),\n",
       " ('2021-07-07 00:00:00', 7663741),\n",
       " ('2021-11-01 00:00:00', 8774852),\n",
       " ('2021-11-11 00:00:00', 8898297)]"
      ]
     },
     "execution_count": 13,
     "metadata": {},
     "output_type": "execute_result"
    }
   ],
   "source": [
    "%%sql\n",
    "SELECT fact_date,\n",
    "       SUM(gmv) OVER(ORDER BY fact_date) AS run_total\n",
    "  FROM Gross\n",
    " ORDER BY 1;"
   ]
  },
  {
   "cell_type": "markdown",
   "metadata": {},
   "source": [
    "### Задание 3\n",
    "\n",
    "Получить время отклика на каждое письмо (письмо идентифицируется по полю mail_id), отправленное пользователем mr_employee@ozon.ru. \n",
    "\n",
    "Дана таблица с логом электронных писем пользователя mr_employee@ozon.ru (т.е. письма, отправленные с этой электронной почты и полученные на нее). У всех цепочек сообщений уникальная тема. В одной цепочке может быть несколько писем."
   ]
  },
  {
   "cell_type": "code",
   "execution_count": 8,
   "metadata": {},
   "outputs": [
    {
     "name": "stdout",
     "output_type": "stream",
     "text": [
      " * sqlite://\n",
      "Done.\n",
      "7 rows affected.\n",
      "Done.\n"
     ]
    },
    {
     "data": {
      "text/html": [
       "<table>\n",
       "    <tr>\n",
       "        <th>mail_id</th>\n",
       "        <th>mail_from</th>\n",
       "        <th>mail_to</th>\n",
       "        <th>mail_subject</th>\n",
       "        <th>timestamp</th>\n",
       "    </tr>\n",
       "    <tr>\n",
       "        <td>1</td>\n",
       "        <td>mr_employee@ozon.ru</td>\n",
       "        <td>ms_intern@ozon.ru</td>\n",
       "        <td>Test</td>\n",
       "        <td>2021-01-08 12:00:03</td>\n",
       "    </tr>\n",
       "    <tr>\n",
       "        <td>2</td>\n",
       "        <td>ms_intern@ozon.ru</td>\n",
       "        <td>mr_employee@ozon.ru</td>\n",
       "        <td>Test</td>\n",
       "        <td>2021-01-10 13:41:34</td>\n",
       "    </tr>\n",
       "    <tr>\n",
       "        <td>3</td>\n",
       "        <td>mr_employee@ozon.ru</td>\n",
       "        <td>mr_boss@ozon.ru</td>\n",
       "        <td>Q2</td>\n",
       "        <td>2021-01-11 15:02:57</td>\n",
       "    </tr>\n",
       "    <tr>\n",
       "        <td>4</td>\n",
       "        <td>mr_boss@ozon.ru</td>\n",
       "        <td>mr_employee@ozon.ru</td>\n",
       "        <td>Q2</td>\n",
       "        <td>2021-01-18 11:03:08</td>\n",
       "    </tr>\n",
       "    <tr>\n",
       "        <td>5</td>\n",
       "        <td>mr_employee@ozon.ru</td>\n",
       "        <td>ms_intern@ozon.ru</td>\n",
       "        <td>Test</td>\n",
       "        <td>2021-01-20 19:48:54</td>\n",
       "    </tr>\n",
       "    <tr>\n",
       "        <td>6</td>\n",
       "        <td>ms_intern@ozon.ru</td>\n",
       "        <td>mr_employee@ozon.ru</td>\n",
       "        <td>Test</td>\n",
       "        <td>2021-01-21 09:48:54</td>\n",
       "    </tr>\n",
       "    <tr>\n",
       "        <td>7</td>\n",
       "        <td>mr_employee@ozon.ru</td>\n",
       "        <td>ms_intern@ozon.ru</td>\n",
       "        <td>Test</td>\n",
       "        <td>2021-01-21 17:48:54</td>\n",
       "    </tr>\n",
       "</table>"
      ],
      "text/plain": [
       "[(1, 'mr_employee@ozon.ru', 'ms_intern@ozon.ru', 'Test', '2021-01-08 12:00:03'),\n",
       " (2, 'ms_intern@ozon.ru', 'mr_employee@ozon.ru', 'Test', '2021-01-10 13:41:34'),\n",
       " (3, 'mr_employee@ozon.ru', 'mr_boss@ozon.ru', 'Q2', '2021-01-11 15:02:57'),\n",
       " (4, 'mr_boss@ozon.ru', 'mr_employee@ozon.ru', 'Q2', '2021-01-18 11:03:08'),\n",
       " (5, 'mr_employee@ozon.ru', 'ms_intern@ozon.ru', 'Test', '2021-01-20 19:48:54'),\n",
       " (6, 'ms_intern@ozon.ru', 'mr_employee@ozon.ru', 'Test', '2021-01-21 09:48:54'),\n",
       " (7, 'mr_employee@ozon.ru', 'ms_intern@ozon.ru', 'Test', '2021-01-21 17:48:54')]"
      ]
     },
     "execution_count": 8,
     "metadata": {},
     "output_type": "execute_result"
    }
   ],
   "source": [
    "%%sql\n",
    "CREATE TABLE  mails(\n",
    "        mail_id INTEGER,\n",
    "        mail_from TEXT,\n",
    "        mail_to TEXT,\n",
    "        mail_subject TEXT,\n",
    "        timestamp TEXT);\n",
    "\n",
    "INSERT INTO mails\n",
    "VALUES (1, 'mr_employee@ozon.ru', 'ms_intern@ozon.ru', 'Test', DATETIME('2021-01-08 12:00:03')),\n",
    "       (2, 'ms_intern@ozon.ru', 'mr_employee@ozon.ru', 'Test', DATETIME('2021-01-10 13:41:34')),\n",
    "       (3, 'mr_employee@ozon.ru', 'mr_boss@ozon.ru', 'Q2', DATETIME('2021-01-11 15:02:57')),\n",
    "       (4, 'mr_boss@ozon.ru', 'mr_employee@ozon.ru', 'Q2', DATETIME('2021-01-18 11:03:08')),\n",
    "       (5, 'mr_employee@ozon.ru', 'ms_intern@ozon.ru', 'Test', DATETIME('2021-01-20 19:48:54')),\n",
    "       (6, 'ms_intern@ozon.ru', 'mr_employee@ozon.ru', 'Test', DATETIME('2021-01-21 09:48:54')),\n",
    "       (7, 'mr_employee@ozon.ru', 'ms_intern@ozon.ru', 'Test', DATETIME('2021-01-21 17:48:54'));\n",
    "        \n",
    "SELECT *\n",
    "  FROM mails\n",
    " ORDER BY 5;"
   ]
  },
  {
   "cell_type": "code",
   "execution_count": 9,
   "metadata": {},
   "outputs": [
    {
     "name": "stdout",
     "output_type": "stream",
     "text": [
      " * sqlite://\n",
      "Done.\n"
     ]
    },
    {
     "data": {
      "text/html": [
       "<table>\n",
       "    <tr>\n",
       "        <th>mail_id</th>\n",
       "        <th>respond_minutes</th>\n",
       "    </tr>\n",
       "    <tr>\n",
       "        <td>2</td>\n",
       "        <td>2981</td>\n",
       "    </tr>\n",
       "    <tr>\n",
       "        <td>4</td>\n",
       "        <td>9840</td>\n",
       "    </tr>\n",
       "    <tr>\n",
       "        <td>6</td>\n",
       "        <td>840</td>\n",
       "    </tr>\n",
       "</table>"
      ],
      "text/plain": [
       "[(2, 2981), (4, 9840), (6, 840)]"
      ]
     },
     "execution_count": 9,
     "metadata": {},
     "output_type": "execute_result"
    }
   ],
   "source": [
    "%%sql\n",
    "WITH prev_mail AS (\n",
    "                SELECT mail_id,\n",
    "                       LAG(timestamp, 1, 0) OVER(PARTITION BY mail_subject\n",
    "                                ORDER BY timestamp) AS prev_timestamp\n",
    "                  FROM mails\n",
    "                  )\n",
    "\n",
    "SELECT m.mail_id,\n",
    "       CAST((JULIANDAY(m.timestamp) - JULIANDAY(pm.prev_timestamp)) * 24 * 60\n",
    "                   AS INTEGER) AS respond_minutes\n",
    "  FROM mails AS m\n",
    "       JOIN prev_mail AS pm\n",
    "       ON pm.mail_id = m.mail_id\n",
    " WHERE prev_timestamp != 0\n",
    "   AND m.mail_to = 'mr_employee@ozon.ru';"
   ]
  },
  {
   "cell_type": "markdown",
   "metadata": {},
   "source": [
    "### Задание 4\n",
    "\n",
    "Вывести id сотрудников с разницей в заработной плате в пределах 5000 рублей.\n",
    "\n",
    "Вывожу любой id, если есть хоть ещё один сотрудник с зп +-5000."
   ]
  },
  {
   "cell_type": "code",
   "execution_count": 10,
   "metadata": {},
   "outputs": [
    {
     "name": "stdout",
     "output_type": "stream",
     "text": [
      " * sqlite://\n",
      "Done.\n",
      "9 rows affected.\n",
      "Done.\n"
     ]
    },
    {
     "data": {
      "text/html": [
       "<table>\n",
       "    <tr>\n",
       "        <th>employee_id</th>\n",
       "        <th>salary_rub</th>\n",
       "    </tr>\n",
       "    <tr>\n",
       "        <td>1</td>\n",
       "        <td>11111</td>\n",
       "    </tr>\n",
       "    <tr>\n",
       "        <td>2</td>\n",
       "        <td>111110</td>\n",
       "    </tr>\n",
       "    <tr>\n",
       "        <td>3</td>\n",
       "        <td>13111</td>\n",
       "    </tr>\n",
       "    <tr>\n",
       "        <td>4</td>\n",
       "        <td>111</td>\n",
       "    </tr>\n",
       "    <tr>\n",
       "        <td>5</td>\n",
       "        <td>11111</td>\n",
       "    </tr>\n",
       "    <tr>\n",
       "        <td>6</td>\n",
       "        <td>51111</td>\n",
       "    </tr>\n",
       "    <tr>\n",
       "        <td>7</td>\n",
       "        <td>55111</td>\n",
       "    </tr>\n",
       "    <tr>\n",
       "        <td>8</td>\n",
       "        <td>11110</td>\n",
       "    </tr>\n",
       "    <tr>\n",
       "        <td>9</td>\n",
       "        <td>1131100</td>\n",
       "    </tr>\n",
       "</table>"
      ],
      "text/plain": [
       "[(1, 11111),\n",
       " (2, 111110),\n",
       " (3, 13111),\n",
       " (4, 111),\n",
       " (5, 11111),\n",
       " (6, 51111),\n",
       " (7, 55111),\n",
       " (8, 11110),\n",
       " (9, 1131100)]"
      ]
     },
     "execution_count": 10,
     "metadata": {},
     "output_type": "execute_result"
    }
   ],
   "source": [
    "%%sql\n",
    "CREATE TABLE salaries(\n",
    "        employee_id INTEGER,\n",
    "        salary_rub INTEGER);\n",
    "\n",
    "INSERT INTO salaries\n",
    "VALUES (1, 11111),\n",
    "       (2, 111110),\n",
    "       (3, 13111),\n",
    "       (4, 111),\n",
    "       (5, 11111),\n",
    "       (6, 51111),\n",
    "       (7, 55111),\n",
    "       (8, 11110),\n",
    "       (9, 1131100);\n",
    "        \n",
    "SELECT *\n",
    "  FROM salaries;"
   ]
  },
  {
   "cell_type": "code",
   "execution_count": 11,
   "metadata": {},
   "outputs": [
    {
     "name": "stdout",
     "output_type": "stream",
     "text": [
      " * sqlite://\n",
      "Done.\n"
     ]
    },
    {
     "data": {
      "text/html": [
       "<table>\n",
       "    <tr>\n",
       "        <th>employee_id</th>\n",
       "    </tr>\n",
       "    <tr>\n",
       "        <td>1</td>\n",
       "    </tr>\n",
       "    <tr>\n",
       "        <td>3</td>\n",
       "    </tr>\n",
       "    <tr>\n",
       "        <td>5</td>\n",
       "    </tr>\n",
       "    <tr>\n",
       "        <td>6</td>\n",
       "    </tr>\n",
       "    <tr>\n",
       "        <td>7</td>\n",
       "    </tr>\n",
       "    <tr>\n",
       "        <td>8</td>\n",
       "    </tr>\n",
       "</table>"
      ],
      "text/plain": [
       "[(1,), (3,), (5,), (6,), (7,), (8,)]"
      ]
     },
     "execution_count": 11,
     "metadata": {},
     "output_type": "execute_result"
    }
   ],
   "source": [
    "%%sql\n",
    "SELECT DISTINCT s1.employee_id\n",
    "  FROM salaries AS s1, salaries AS s2\n",
    " WHERE s2.salary_rub BETWEEN (s1.salary_rub - 5000)\n",
    "                         AND (s1.salary_rub + 5000)\n",
    "   AND s1.employee_id != s2.employee_id;"
   ]
  }
 ],
 "metadata": {
  "kernelspec": {
   "display_name": "Python 3 (ipykernel)",
   "language": "python",
   "name": "python3"
  },
  "language_info": {
   "codemirror_mode": {
    "name": "ipython",
    "version": 3
   },
   "file_extension": ".py",
   "mimetype": "text/x-python",
   "name": "python",
   "nbconvert_exporter": "python",
   "pygments_lexer": "ipython3",
   "version": "3.10.0"
  },
  "toc": {
   "base_numbering": 1,
   "nav_menu": {},
   "number_sections": false,
   "sideBar": true,
   "skip_h1_title": true,
   "title_cell": "Table of Contents",
   "title_sidebar": "Contents",
   "toc_cell": false,
   "toc_position": {},
   "toc_section_display": true,
   "toc_window_display": false
  }
 },
 "nbformat": 4,
 "nbformat_minor": 4
}
