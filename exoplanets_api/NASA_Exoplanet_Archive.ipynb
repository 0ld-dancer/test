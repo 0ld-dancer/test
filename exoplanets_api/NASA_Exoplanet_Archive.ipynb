{
 "cells": [
  {
   "cell_type": "code",
   "execution_count": 1,
   "metadata": {},
   "outputs": [],
   "source": [
    "import requests\n",
    "import pandas as pd\n",
    "from bs4 import BeautifulSoup"
   ]
  },
  {
   "cell_type": "code",
   "execution_count": 2,
   "metadata": {},
   "outputs": [
    {
     "data": {
      "text/plain": [
       "200"
      ]
     },
     "execution_count": 2,
     "metadata": {},
     "output_type": "execute_result"
    }
   ],
   "source": [
    "url = '''https://exoplanetarchive.ipac.caltech.edu/TAP/sync?query=select+\n",
    "        pl_name,hostname,disc_year,discoverymethod,sy_dist,st_age+from+PSCompPars'''\n",
    "\n",
    "response = requests.get(url)\n",
    "response.status_code"
   ]
  },
  {
   "cell_type": "code",
   "execution_count": 3,
   "metadata": {},
   "outputs": [],
   "source": [
    "content = response.content\n",
    "parser = BeautifulSoup(content, 'html.parser')\n",
    "table = parser.table\n",
    "#table"
   ]
  },
  {
   "cell_type": "code",
   "execution_count": 4,
   "metadata": {},
   "outputs": [
    {
     "name": "stdout",
     "output_type": "stream",
     "text": [
      "['pl_name', 'hostname', 'disc_year', 'discoverymethod', 'sy_dist', 'st_age']\n"
     ]
    },
    {
     "data": {
      "text/html": [
       "<div>\n",
       "<style scoped>\n",
       "    .dataframe tbody tr th:only-of-type {\n",
       "        vertical-align: middle;\n",
       "    }\n",
       "\n",
       "    .dataframe tbody tr th {\n",
       "        vertical-align: top;\n",
       "    }\n",
       "\n",
       "    .dataframe thead th {\n",
       "        text-align: right;\n",
       "    }\n",
       "</style>\n",
       "<table border=\"1\" class=\"dataframe\">\n",
       "  <thead>\n",
       "    <tr style=\"text-align: right;\">\n",
       "      <th></th>\n",
       "      <th>pl_name</th>\n",
       "      <th>hostname</th>\n",
       "      <th>disc_year</th>\n",
       "      <th>discoverymethod</th>\n",
       "      <th>sy_dist</th>\n",
       "      <th>st_age</th>\n",
       "    </tr>\n",
       "  </thead>\n",
       "  <tbody>\n",
       "  </tbody>\n",
       "</table>\n",
       "</div>"
      ],
      "text/plain": [
       "Empty DataFrame\n",
       "Columns: [pl_name, hostname, disc_year, discoverymethod, sy_dist, st_age]\n",
       "Index: []"
      ]
     },
     "execution_count": 4,
     "metadata": {},
     "output_type": "execute_result"
    }
   ],
   "source": [
    "headers = []\n",
    "for i in table.find_all('field'):\n",
    "    title = i.get('name')\n",
    "    headers.append(title)\n",
    "print(headers)\n",
    "exoplanets = pd.DataFrame(columns=headers)\n",
    "exoplanets"
   ]
  },
  {
   "cell_type": "code",
   "execution_count": 5,
   "metadata": {},
   "outputs": [
    {
     "data": {
      "text/html": [
       "<div>\n",
       "<style scoped>\n",
       "    .dataframe tbody tr th:only-of-type {\n",
       "        vertical-align: middle;\n",
       "    }\n",
       "\n",
       "    .dataframe tbody tr th {\n",
       "        vertical-align: top;\n",
       "    }\n",
       "\n",
       "    .dataframe thead th {\n",
       "        text-align: right;\n",
       "    }\n",
       "</style>\n",
       "<table border=\"1\" class=\"dataframe\">\n",
       "  <thead>\n",
       "    <tr style=\"text-align: right;\">\n",
       "      <th></th>\n",
       "      <th>pl_name</th>\n",
       "      <th>hostname</th>\n",
       "      <th>disc_year</th>\n",
       "      <th>discoverymethod</th>\n",
       "      <th>sy_dist</th>\n",
       "      <th>st_age</th>\n",
       "    </tr>\n",
       "  </thead>\n",
       "  <tbody>\n",
       "    <tr>\n",
       "      <th>0</th>\n",
       "      <td>OGLE-2016-BLG-1227L b</td>\n",
       "      <td>OGLE-2016-BLG-1227L</td>\n",
       "      <td>2020</td>\n",
       "      <td>Microlensing</td>\n",
       "      <td></td>\n",
       "      <td></td>\n",
       "    </tr>\n",
       "    <tr>\n",
       "      <th>1</th>\n",
       "      <td>GJ 480 b</td>\n",
       "      <td>GJ 480</td>\n",
       "      <td>2020</td>\n",
       "      <td>Radial Velocity</td>\n",
       "      <td>14.2358000</td>\n",
       "      <td></td>\n",
       "    </tr>\n",
       "    <tr>\n",
       "      <th>2</th>\n",
       "      <td>Kepler-276 c</td>\n",
       "      <td>Kepler-276</td>\n",
       "      <td>2013</td>\n",
       "      <td>Transit</td>\n",
       "      <td>1144.8600000</td>\n",
       "      <td>0.400</td>\n",
       "    </tr>\n",
       "    <tr>\n",
       "      <th>3</th>\n",
       "      <td>Kepler-829 b</td>\n",
       "      <td>Kepler-829</td>\n",
       "      <td>2016</td>\n",
       "      <td>Transit</td>\n",
       "      <td>1073.7600000</td>\n",
       "      <td>4.680</td>\n",
       "    </tr>\n",
       "    <tr>\n",
       "      <th>4</th>\n",
       "      <td>K2-283 b</td>\n",
       "      <td>K2-283</td>\n",
       "      <td>2018</td>\n",
       "      <td>Transit</td>\n",
       "      <td>402.9150000</td>\n",
       "      <td></td>\n",
       "    </tr>\n",
       "    <tr>\n",
       "      <th>...</th>\n",
       "      <td>...</td>\n",
       "      <td>...</td>\n",
       "      <td>...</td>\n",
       "      <td>...</td>\n",
       "      <td>...</td>\n",
       "      <td>...</td>\n",
       "    </tr>\n",
       "    <tr>\n",
       "      <th>4419</th>\n",
       "      <td>NGTS-16 b</td>\n",
       "      <td>NGTS-16</td>\n",
       "      <td>2021</td>\n",
       "      <td>Transit</td>\n",
       "      <td>898.1680000</td>\n",
       "      <td>10.290</td>\n",
       "    </tr>\n",
       "    <tr>\n",
       "      <th>4420</th>\n",
       "      <td>NGTS-15 b</td>\n",
       "      <td>NGTS-15</td>\n",
       "      <td>2021</td>\n",
       "      <td>Transit</td>\n",
       "      <td>786.4850000</td>\n",
       "      <td>3.280</td>\n",
       "    </tr>\n",
       "    <tr>\n",
       "      <th>4421</th>\n",
       "      <td>NGTS-17 b</td>\n",
       "      <td>NGTS-17</td>\n",
       "      <td>2021</td>\n",
       "      <td>Transit</td>\n",
       "      <td>1040.2800000</td>\n",
       "      <td>9.220</td>\n",
       "    </tr>\n",
       "    <tr>\n",
       "      <th>4422</th>\n",
       "      <td>LHS 1478 b</td>\n",
       "      <td>LHS 1478</td>\n",
       "      <td>2021</td>\n",
       "      <td>Transit</td>\n",
       "      <td>18.2276000</td>\n",
       "      <td></td>\n",
       "    </tr>\n",
       "    <tr>\n",
       "      <th>4423</th>\n",
       "      <td>NGTS-18 b</td>\n",
       "      <td>NGTS-18</td>\n",
       "      <td>2021</td>\n",
       "      <td>Transit</td>\n",
       "      <td>1096.1900000</td>\n",
       "      <td>10.840</td>\n",
       "    </tr>\n",
       "  </tbody>\n",
       "</table>\n",
       "<p>4424 rows × 6 columns</p>\n",
       "</div>"
      ],
      "text/plain": [
       "                    pl_name             hostname disc_year  discoverymethod  \\\n",
       "0     OGLE-2016-BLG-1227L b  OGLE-2016-BLG-1227L      2020     Microlensing   \n",
       "1                  GJ 480 b               GJ 480      2020  Radial Velocity   \n",
       "2              Kepler-276 c           Kepler-276      2013          Transit   \n",
       "3              Kepler-829 b           Kepler-829      2016          Transit   \n",
       "4                  K2-283 b               K2-283      2018          Transit   \n",
       "...                     ...                  ...       ...              ...   \n",
       "4419              NGTS-16 b              NGTS-16      2021          Transit   \n",
       "4420              NGTS-15 b              NGTS-15      2021          Transit   \n",
       "4421              NGTS-17 b              NGTS-17      2021          Transit   \n",
       "4422             LHS 1478 b             LHS 1478      2021          Transit   \n",
       "4423              NGTS-18 b              NGTS-18      2021          Transit   \n",
       "\n",
       "           sy_dist  st_age  \n",
       "0                           \n",
       "1       14.2358000          \n",
       "2     1144.8600000   0.400  \n",
       "3     1073.7600000   4.680  \n",
       "4      402.9150000          \n",
       "...            ...     ...  \n",
       "4419   898.1680000  10.290  \n",
       "4420   786.4850000   3.280  \n",
       "4421  1040.2800000   9.220  \n",
       "4422    18.2276000          \n",
       "4423  1096.1900000  10.840  \n",
       "\n",
       "[4424 rows x 6 columns]"
      ]
     },
     "execution_count": 5,
     "metadata": {},
     "output_type": "execute_result"
    }
   ],
   "source": [
    "for row in table.find_all('tr'):\n",
    "    cells = row.find_all('td')\n",
    "    data = [td.text.strip() for td in cells]\n",
    "    length = exoplanets.shape[0]\n",
    "    exoplanets.loc[length] = data\n",
    "    \n",
    "exoplanets"
   ]
  },
  {
   "cell_type": "code",
   "execution_count": 6,
   "metadata": {},
   "outputs": [],
   "source": [
    "exoplanets.to_excel('exoplanets.xlsx', index=False)"
   ]
  }
 ],
 "metadata": {
  "kernelspec": {
   "display_name": "Python 3",
   "language": "python",
   "name": "python3"
  },
  "language_info": {
   "codemirror_mode": {
    "name": "ipython",
    "version": 3
   },
   "file_extension": ".py",
   "mimetype": "text/x-python",
   "name": "python",
   "nbconvert_exporter": "python",
   "pygments_lexer": "ipython3",
   "version": "3.9.5"
  },
  "toc": {
   "base_numbering": 1,
   "nav_menu": {},
   "number_sections": false,
   "sideBar": true,
   "skip_h1_title": true,
   "title_cell": "Table of Contents",
   "title_sidebar": "Contents",
   "toc_cell": false,
   "toc_position": {},
   "toc_section_display": true,
   "toc_window_display": false
  }
 },
 "nbformat": 4,
 "nbformat_minor": 4
}
