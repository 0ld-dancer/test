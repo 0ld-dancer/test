{
 "cells": [
  {
   "cell_type": "code",
   "execution_count": 19,
   "metadata": {},
   "outputs": [],
   "source": [
    "def how_many_friends(candies):\n",
    "    #Считает сколько одинаковых наборов можно из собрать их элементов списка(конфет)\n",
    "    \n",
    "    #frequently table для конфет\n",
    "    candies_qty = {}\n",
    "    for candy in candies:\n",
    "        if candy not in candies_qty:\n",
    "            candies_qty[candy] = 1\n",
    "        else:\n",
    "            candies_qty[candy] += 1\n",
    "    \n",
    "    #Узнаем наименее часто встречающийся элемент. Больше него наборов быть не может\n",
    "    min_num = candies_qty[min(candies_qty)]\n",
    "    #Минимальное число наборов - 1\n",
    "    answer = 1\n",
    "    \n",
    "    if min_num == 1:\n",
    "    #Если хотя бы один вид конфет в кол-ве 1 шт. => 1 набор\n",
    "        return answer\n",
    "    else:\n",
    "        #Смотрим делители min_num\n",
    "        for i in range(2, min_num + 1):\n",
    "            if min_num % i == 0:\n",
    "                #Кол-во типов конфет, делящихся на i без остатка\n",
    "                div_num = 0\n",
    "                for candy in candies_qty:\n",
    "                    #Проверяем каждый тип конфет\n",
    "                    if candies_qty[candy] % i != 0:\n",
    "                        #Как только кол-во какого-то вида конфетне делится цело  на i завершаем проверку\n",
    "                        break\n",
    "                    else:\n",
    "                        div_num += 1\n",
    "                if div_num == len(candies_qty):\n",
    "                    #Если кол-во кофет каждого типа целочисленно делится на i - принимаем i за ответ\n",
    "                    answer = i\n",
    "        return answer   "
   ]
  },
  {
   "cell_type": "code",
   "execution_count": 18,
   "metadata": {},
   "outputs": [
    {
     "name": "stdout",
     "output_type": "stream",
     "text": [
      "{'b': 4, 'e': 8, 'd': 4}\n"
     ]
    },
    {
     "data": {
      "text/plain": [
       "4"
      ]
     },
     "execution_count": 18,
     "metadata": {},
     "output_type": "execute_result"
    }
   ],
   "source": [
    "candies = ['b', 'b', 'b', 'e', 'e', 'e', 'e', 'e', 'b', 'e', 'e', 'e', 'd', 'd', 'd', 'd']\n",
    "how_many_friends(candies)"
   ]
  },
  {
   "cell_type": "code",
   "execution_count": null,
   "metadata": {},
   "outputs": [],
   "source": [
    "def how_many_friends(candies):\n",
    "    #Считает сколько одинаковых наборов можно из собрать их элементов списка(конфет)\n",
    "    \n",
    "    #frequently table для конфет\n",
    "    candies_qty = {}\n",
    "    for candy in candies:\n",
    "        if candy not in candies_qty:\n",
    "            candies_qty[candy] = 1\n",
    "        else:\n",
    "            candies_qty[candy] += 1\n",
    "    \n",
    "    #Узнаем наименее часто встречающийся элемент. Больше него наборов быть не может\n",
    "    min_num = candies_qty[min(candies_qty)]\n",
    "    #Минимальное число наборов - 1\n",
    "    answer = 1\n",
    "    \n",
    "    if min_num == 1:\n",
    "    #Если хотя бы один вид конфет в кол-ве 1 шт. => 1 набор\n",
    "        return answer\n",
    "    else:\n",
    "        #Смотрим делители min_num\n",
    "        for i in range(2, min_num + 1):\n",
    "            if min_num % i == 0:\n",
    "                #Кол-во типов конфет, делящихся на i без остатка\n",
    "                div_num = 0\n",
    "                for candy in candies_qty:\n",
    "                    #Проверяем каждый тип конфет\n",
    "                    if candies_qty[candy] % i != 0:\n",
    "                        #Как только кол-во какого-то вида конфетне делится цело  на i завершаем проверку\n",
    "                        break\n",
    "                    else:\n",
    "                        div_num += 1\n",
    "                if div_num == len(candies_qty):\n",
    "                    #Если кол-во кофет каждого типа целочисленно делится на i - принимаем i за ответ\n",
    "                    answer = i\n",
    "        return answer"
   ]
  },
  {
   "cell_type": "code",
   "execution_count": 124,
   "metadata": {},
   "outputs": [
    {
     "name": "stdout",
     "output_type": "stream",
     "text": [
      "2\n",
      "5\n",
      "10\n"
     ]
    }
   ],
   "source": [
    "min_num = 10\n",
    "for i in range(2, min_num + 1):\n",
    "  if min_num % i == 0:\n",
    "    print(i)"
   ]
  },
  {
   "cell_type": "code",
   "execution_count": 112,
   "metadata": {},
   "outputs": [
    {
     "name": "stdout",
     "output_type": "stream",
     "text": [
      "['a', 'e', 'a', 'e', 'c', 'b', 'e', 'e', 'e', 'c', 'c'] \n",
      " 1\n"
     ]
    }
   ],
   "source": [
    "import random\n",
    "\n",
    "candies = []\n",
    "\n",
    "for i in range(11):\n",
    "    random_letter = random.choice(['a','b', 'c', 'd', 'e'])\n",
    "    candies.append(random_letter)\n",
    "    \n",
    "print(candies, '\\n', how_many_friends(candies))"
   ]
  },
  {
   "cell_type": "code",
   "execution_count": 54,
   "metadata": {},
   "outputs": [
    {
     "name": "stdout",
     "output_type": "stream",
     "text": [
      "bftabvykkz\n"
     ]
    }
   ],
   "source": [
    "letters = string.ascii_lowercase\n",
    "print ( ''.join(random.choice(letters) for i in range(10)) )"
   ]
  },
  {
   "cell_type": "code",
   "execution_count": 9,
   "metadata": {},
   "outputs": [],
   "source": [
    "import pandas as pd\n",
    "\n",
    "x = pd.Series(candies)"
   ]
  },
  {
   "cell_type": "code",
   "execution_count": 10,
   "metadata": {},
   "outputs": [
    {
     "data": {
      "text/plain": [
       "0    a\n",
       "1    b\n",
       "2    c\n",
       "3    a\n",
       "4    b\n",
       "5    c\n",
       "6    c\n",
       "7    c\n",
       "dtype: object"
      ]
     },
     "execution_count": 10,
     "metadata": {},
     "output_type": "execute_result"
    }
   ],
   "source": [
    "x"
   ]
  },
  {
   "cell_type": "code",
   "execution_count": 11,
   "metadata": {},
   "outputs": [],
   "source": [
    "xx = x.value_counts()\n",
    "xx"
   ]
  },
  {
   "cell_type": "code",
   "execution_count": 13,
   "metadata": {},
   "outputs": [
    {
     "data": {
      "text/plain": [
       "2"
      ]
     },
     "execution_count": 13,
     "metadata": {},
     "output_type": "execute_result"
    }
   ],
   "source": [
    "xx.min()"
   ]
  },
  {
   "cell_type": "code",
   "execution_count": 28,
   "metadata": {},
   "outputs": [
    {
     "data": {
      "text/plain": [
       "c    2.0\n",
       "b    1.0\n",
       "a    1.0\n",
       "dtype: float64"
      ]
     },
     "execution_count": 28,
     "metadata": {},
     "output_type": "execute_result"
    }
   ],
   "source": [
    "xxx = xx / xx.min()\n",
    "xxx"
   ]
  },
  {
   "cell_type": "code",
   "execution_count": 27,
   "metadata": {},
   "outputs": [
    {
     "data": {
      "text/plain": [
       "c    True\n",
       "b    True\n",
       "a    True\n",
       "dtype: bool"
      ]
     },
     "execution_count": 27,
     "metadata": {},
     "output_type": "execute_result"
    }
   ],
   "source": [
    "xxxx = xxx.apply(lambda x: x.is_integer())\n",
    "xxxx"
   ]
  },
  {
   "cell_type": "code",
   "execution_count": 6,
   "metadata": {},
   "outputs": [
    {
     "name": "stdout",
     "output_type": "stream",
     "text": [
      "0 [1]\n",
      "1 [1, 3]\n",
      "2 [1, 3, 6]\n",
      "3 [1, 3, 6, 10]\n",
      "[1, 3, 6, 10, 15]\n"
     ]
    }
   ],
   "source": [
    "u = [1, 2, 3, 4, 5,]\n",
    "t = [u[0]]\n",
    "for i,val in enumerate(u[1:]):\n",
    "    t.append(val + t[i])\n",
    "    \n",
    "print(t)"
   ]
  }
 ],
 "metadata": {
  "kernelspec": {
   "display_name": "Python 3",
   "language": "python",
   "name": "python3"
  },
  "language_info": {
   "codemirror_mode": {
    "name": "ipython",
    "version": 3
   },
   "file_extension": ".py",
   "mimetype": "text/x-python",
   "name": "python",
   "nbconvert_exporter": "python",
   "pygments_lexer": "ipython3",
   "version": "3.9.5"
  },
  "toc": {
   "base_numbering": 1,
   "nav_menu": {},
   "number_sections": false,
   "sideBar": true,
   "skip_h1_title": true,
   "title_cell": "Table of Contents",
   "title_sidebar": "Contents",
   "toc_cell": false,
   "toc_position": {},
   "toc_section_display": true,
   "toc_window_display": false
  }
 },
 "nbformat": 4,
 "nbformat_minor": 4
}
