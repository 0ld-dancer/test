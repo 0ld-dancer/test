{
 "cells": [
  {
   "cell_type": "code",
   "execution_count": 84,
   "metadata": {},
   "outputs": [
    {
     "data": {
      "text/html": [
       "<div>\n",
       "<style scoped>\n",
       "    .dataframe tbody tr th:only-of-type {\n",
       "        vertical-align: middle;\n",
       "    }\n",
       "\n",
       "    .dataframe tbody tr th {\n",
       "        vertical-align: top;\n",
       "    }\n",
       "\n",
       "    .dataframe thead th {\n",
       "        text-align: right;\n",
       "    }\n",
       "</style>\n",
       "<table border=\"1\" class=\"dataframe\">\n",
       "  <thead>\n",
       "    <tr style=\"text-align: right;\">\n",
       "      <th></th>\n",
       "      <th>title</th>\n",
       "      <th>country</th>\n",
       "      <th>year_added</th>\n",
       "    </tr>\n",
       "  </thead>\n",
       "  <tbody>\n",
       "    <tr>\n",
       "      <th>0</th>\n",
       "      <td>3%</td>\n",
       "      <td>Brazil</td>\n",
       "      <td>2020</td>\n",
       "    </tr>\n",
       "    <tr>\n",
       "      <th>1</th>\n",
       "      <td>7:19</td>\n",
       "      <td>Mexico</td>\n",
       "      <td>2016</td>\n",
       "    </tr>\n",
       "    <tr>\n",
       "      <th>2</th>\n",
       "      <td>23:59</td>\n",
       "      <td>Singapore</td>\n",
       "      <td>2018</td>\n",
       "    </tr>\n",
       "    <tr>\n",
       "      <th>3</th>\n",
       "      <td>9</td>\n",
       "      <td>United States</td>\n",
       "      <td>2017</td>\n",
       "    </tr>\n",
       "    <tr>\n",
       "      <th>4</th>\n",
       "      <td>21</td>\n",
       "      <td>United States</td>\n",
       "      <td>2020</td>\n",
       "    </tr>\n",
       "  </tbody>\n",
       "</table>\n",
       "</div>"
      ],
      "text/plain": [
       "   title        country  year_added\n",
       "0     3%         Brazil        2020\n",
       "1   7:19         Mexico        2016\n",
       "2  23:59      Singapore        2018\n",
       "3      9  United States        2017\n",
       "4     21  United States        2020"
      ]
     },
     "execution_count": 84,
     "metadata": {},
     "output_type": "execute_result"
    }
   ],
   "source": [
    "import pandas as pd\n",
    "import numpy as np\n",
    "netflix = pd.read_csv(\"C:\\\\netflix.csv\")\n",
    "netflix = netflix[['title', 'country', 'year_added']]\n",
    "netflix.head()"
   ]
  },
  {
   "cell_type": "code",
   "execution_count": 87,
   "metadata": {},
   "outputs": [],
   "source": [
    "asia = ['South Korea', 'India', 'China', 'Japan']"
   ]
  },
  {
   "cell_type": "code",
   "execution_count": 51,
   "metadata": {},
   "outputs": [
    {
     "data": {
      "text/plain": [
       "United States     2555\n",
       "India              923\n",
       "United_states      507\n",
       "United Kingdom     397\n",
       "Japan              226\n",
       "South Korea        183\n",
       "Canada             177\n",
       "Spain              134\n",
       "France             115\n",
       "Egypt              101\n",
       "Name: country, dtype: int64"
      ]
     },
     "execution_count": 51,
     "metadata": {},
     "output_type": "execute_result"
    }
   ],
   "source": [
    "netflix[\"country\"].value_counts().head(10)"
   ]
  },
  {
   "cell_type": "code",
   "execution_count": 106,
   "metadata": {},
   "outputs": [
    {
     "data": {
      "text/html": [
       "<div>\n",
       "<style scoped>\n",
       "    .dataframe tbody tr th:only-of-type {\n",
       "        vertical-align: middle;\n",
       "    }\n",
       "\n",
       "    .dataframe tbody tr th {\n",
       "        vertical-align: top;\n",
       "    }\n",
       "\n",
       "    .dataframe thead th {\n",
       "        text-align: right;\n",
       "    }\n",
       "</style>\n",
       "<table border=\"1\" class=\"dataframe\">\n",
       "  <thead>\n",
       "    <tr style=\"text-align: right;\">\n",
       "      <th></th>\n",
       "      <th>title</th>\n",
       "      <th>country</th>\n",
       "      <th>year_added</th>\n",
       "      <th>asia</th>\n",
       "      <th>Korea</th>\n",
       "      <th>Japan</th>\n",
       "      <th>India</th>\n",
       "      <th>China</th>\n",
       "      <th>total</th>\n",
       "      <th>asia_pct</th>\n",
       "      <th>korea_pct</th>\n",
       "      <th>india_pct</th>\n",
       "    </tr>\n",
       "  </thead>\n",
       "  <tbody>\n",
       "    <tr>\n",
       "      <th>0</th>\n",
       "      <td>3%</td>\n",
       "      <td>Brazil</td>\n",
       "      <td>2020</td>\n",
       "      <td>0</td>\n",
       "      <td>0</td>\n",
       "      <td>0</td>\n",
       "      <td>0</td>\n",
       "      <td>0</td>\n",
       "      <td>1</td>\n",
       "      <td>0.000000</td>\n",
       "      <td>0.0</td>\n",
       "      <td>0.000000</td>\n",
       "    </tr>\n",
       "    <tr>\n",
       "      <th>1</th>\n",
       "      <td>7:19</td>\n",
       "      <td>Mexico</td>\n",
       "      <td>2016</td>\n",
       "      <td>0</td>\n",
       "      <td>0</td>\n",
       "      <td>0</td>\n",
       "      <td>0</td>\n",
       "      <td>0</td>\n",
       "      <td>1</td>\n",
       "      <td>0.000000</td>\n",
       "      <td>0.0</td>\n",
       "      <td>0.000000</td>\n",
       "    </tr>\n",
       "    <tr>\n",
       "      <th>2</th>\n",
       "      <td>23:59</td>\n",
       "      <td>Singapore</td>\n",
       "      <td>2018</td>\n",
       "      <td>0</td>\n",
       "      <td>0</td>\n",
       "      <td>0</td>\n",
       "      <td>0</td>\n",
       "      <td>0</td>\n",
       "      <td>1</td>\n",
       "      <td>0.000000</td>\n",
       "      <td>0.0</td>\n",
       "      <td>0.000000</td>\n",
       "    </tr>\n",
       "    <tr>\n",
       "      <th>3</th>\n",
       "      <td>9</td>\n",
       "      <td>United States</td>\n",
       "      <td>2017</td>\n",
       "      <td>0</td>\n",
       "      <td>0</td>\n",
       "      <td>0</td>\n",
       "      <td>0</td>\n",
       "      <td>0</td>\n",
       "      <td>1</td>\n",
       "      <td>0.000000</td>\n",
       "      <td>0.0</td>\n",
       "      <td>0.000000</td>\n",
       "    </tr>\n",
       "    <tr>\n",
       "      <th>4</th>\n",
       "      <td>21</td>\n",
       "      <td>United States</td>\n",
       "      <td>2020</td>\n",
       "      <td>0</td>\n",
       "      <td>0</td>\n",
       "      <td>0</td>\n",
       "      <td>0</td>\n",
       "      <td>0</td>\n",
       "      <td>1</td>\n",
       "      <td>0.000000</td>\n",
       "      <td>0.0</td>\n",
       "      <td>0.000000</td>\n",
       "    </tr>\n",
       "    <tr>\n",
       "      <th>5</th>\n",
       "      <td>46</td>\n",
       "      <td>Turkey</td>\n",
       "      <td>2017</td>\n",
       "      <td>0</td>\n",
       "      <td>0</td>\n",
       "      <td>0</td>\n",
       "      <td>0</td>\n",
       "      <td>0</td>\n",
       "      <td>1</td>\n",
       "      <td>0.000000</td>\n",
       "      <td>0.0</td>\n",
       "      <td>0.000000</td>\n",
       "    </tr>\n",
       "    <tr>\n",
       "      <th>6</th>\n",
       "      <td>122</td>\n",
       "      <td>Egypt</td>\n",
       "      <td>2020</td>\n",
       "      <td>0</td>\n",
       "      <td>0</td>\n",
       "      <td>0</td>\n",
       "      <td>0</td>\n",
       "      <td>0</td>\n",
       "      <td>1</td>\n",
       "      <td>0.000000</td>\n",
       "      <td>0.0</td>\n",
       "      <td>0.000000</td>\n",
       "    </tr>\n",
       "    <tr>\n",
       "      <th>7</th>\n",
       "      <td>187</td>\n",
       "      <td>United States</td>\n",
       "      <td>2019</td>\n",
       "      <td>0</td>\n",
       "      <td>0</td>\n",
       "      <td>0</td>\n",
       "      <td>0</td>\n",
       "      <td>0</td>\n",
       "      <td>1</td>\n",
       "      <td>0.000000</td>\n",
       "      <td>0.0</td>\n",
       "      <td>0.000000</td>\n",
       "    </tr>\n",
       "    <tr>\n",
       "      <th>8</th>\n",
       "      <td>706</td>\n",
       "      <td>India</td>\n",
       "      <td>2019</td>\n",
       "      <td>1</td>\n",
       "      <td>0</td>\n",
       "      <td>0</td>\n",
       "      <td>1</td>\n",
       "      <td>0</td>\n",
       "      <td>1</td>\n",
       "      <td>0.111111</td>\n",
       "      <td>0.0</td>\n",
       "      <td>0.111111</td>\n",
       "    </tr>\n",
       "    <tr>\n",
       "      <th>9</th>\n",
       "      <td>1920</td>\n",
       "      <td>India</td>\n",
       "      <td>2017</td>\n",
       "      <td>1</td>\n",
       "      <td>0</td>\n",
       "      <td>0</td>\n",
       "      <td>1</td>\n",
       "      <td>0</td>\n",
       "      <td>1</td>\n",
       "      <td>0.200000</td>\n",
       "      <td>0.0</td>\n",
       "      <td>0.200000</td>\n",
       "    </tr>\n",
       "  </tbody>\n",
       "</table>\n",
       "</div>"
      ],
      "text/plain": [
       "   title        country  year_added  asia  Korea  Japan  India  China  total  \\\n",
       "0     3%         Brazil        2020     0      0      0      0      0      1   \n",
       "1   7:19         Mexico        2016     0      0      0      0      0      1   \n",
       "2  23:59      Singapore        2018     0      0      0      0      0      1   \n",
       "3      9  United States        2017     0      0      0      0      0      1   \n",
       "4     21  United States        2020     0      0      0      0      0      1   \n",
       "5     46         Turkey        2017     0      0      0      0      0      1   \n",
       "6    122          Egypt        2020     0      0      0      0      0      1   \n",
       "7    187  United States        2019     0      0      0      0      0      1   \n",
       "8    706          India        2019     1      0      0      1      0      1   \n",
       "9   1920          India        2017     1      0      0      1      0      1   \n",
       "\n",
       "   asia_pct  korea_pct  india_pct  \n",
       "0  0.000000        0.0   0.000000  \n",
       "1  0.000000        0.0   0.000000  \n",
       "2  0.000000        0.0   0.000000  \n",
       "3  0.000000        0.0   0.000000  \n",
       "4  0.000000        0.0   0.000000  \n",
       "5  0.000000        0.0   0.000000  \n",
       "6  0.000000        0.0   0.000000  \n",
       "7  0.000000        0.0   0.000000  \n",
       "8  0.111111        0.0   0.111111  \n",
       "9  0.200000        0.0   0.200000  "
      ]
     },
     "execution_count": 106,
     "metadata": {},
     "output_type": "execute_result"
    }
   ],
   "source": [
    "netflix[\"asia\"] = netflix[\"country\"].apply(lambda x: 1 if x in asia else 0)\n",
    "netflix[\"Korea\"] = netflix[\"country\"].apply(lambda x: 1 if x == 'South Korea' else 0)\n",
    "netflix[\"Japan\"] = netflix[\"country\"].apply(lambda x: 1 if x == 'Japan' else 0)\n",
    "netflix[\"India\"] = netflix[\"country\"].apply(lambda x: 1 if x == 'India' else 0)\n",
    "netflix[\"China\"] = netflix[\"country\"].apply(lambda x: 1 if x =='China' else 0)\n",
    "netflix[\"total\"] = 1\n",
    "\n",
    "netflix['asia_pct'] = netflix['asia'].cumsum() / netflix['total'].cumsum()\n",
    "netflix['korea_pct'] = netflix['Korea'].cumsum() / netflix['total'].cumsum()\n",
    "netflix['india_pct'] = netflix['India'].cumsum() / netflix['total'].cumsum()\n",
    "netflix.head(10)"
   ]
  },
  {
   "cell_type": "markdown",
   "metadata": {},
   "source": [
    "Проверка гипотезы про паразитов и корейское кино в 2019 году. Нулевая гипотеза - номинация \"Паразитов\" на оскар не повлиял на увеличение количества корейских фильмов в 2019."
   ]
  },
  {
   "cell_type": "code",
   "execution_count": 119,
   "metadata": {},
   "outputs": [
    {
     "data": {
      "text/plain": [
       "0.023500706305380762"
      ]
     },
     "execution_count": 119,
     "metadata": {},
     "output_type": "execute_result"
    }
   ],
   "source": [
    "sk_mean = netflix['Korea'].mean()\n",
    "sk_mean"
   ]
  },
  {
   "cell_type": "code",
   "execution_count": 121,
   "metadata": {},
   "outputs": [
    {
     "data": {
      "text/plain": [
       "0.026814609338881183"
      ]
     },
     "execution_count": 121,
     "metadata": {},
     "output_type": "execute_result"
    }
   ],
   "source": [
    "sk_2019_mean = netflix.loc[netflix['year_added'] == 2019, 'Korea'].mean()\n",
    "sk_2019_mean"
   ]
  },
  {
   "cell_type": "code",
   "execution_count": 124,
   "metadata": {},
   "outputs": [
    {
     "data": {
      "text/plain": [
       "0.16154128285018596"
      ]
     },
     "execution_count": 124,
     "metadata": {},
     "output_type": "execute_result"
    }
   ],
   "source": [
    "sk_2019_mean_std = np.std(netflix.loc[netflix['year_added'] == 2019, 'Korea'])\n",
    "sk_2019_mean_std"
   ]
  },
  {
   "cell_type": "code",
   "execution_count": 125,
   "metadata": {},
   "outputs": [
    {
     "data": {
      "text/plain": [
       "58"
      ]
     },
     "execution_count": 125,
     "metadata": {},
     "output_type": "execute_result"
    }
   ],
   "source": [
    "sk_2019_n = netflix.loc[netflix['year_added'] == 2019, 'Korea'].sum()\n",
    "sk_2019_n"
   ]
  },
  {
   "cell_type": "code",
   "execution_count": 127,
   "metadata": {},
   "outputs": [
    {
     "data": {
      "text/plain": [
       "0.15623209840037666"
      ]
     },
     "execution_count": 127,
     "metadata": {},
     "output_type": "execute_result"
    }
   ],
   "source": [
    "t_sk_2019 = (sk_2019_mean - sk_mean) * np.sqrt(sk_2019_n) / sk_2019_mean_std\n",
    "t_sk_2019"
   ]
  },
  {
   "cell_type": "markdown",
   "metadata": {},
   "source": [
    "t критическое для таких значений = 2,002 > 0.156. Нулевая гипотеза не отвергается\n",
    "\n",
    "Проверка Индии. Нулевая - расширение на индийский рынок в 2018 не увеличило кол-во индийский фильмов на площадке."
   ]
  },
  {
   "cell_type": "code",
   "execution_count": 120,
   "metadata": {},
   "outputs": [
    {
     "data": {
      "text/plain": [
       "0.11853088480801335"
      ]
     },
     "execution_count": 120,
     "metadata": {},
     "output_type": "execute_result"
    }
   ],
   "source": [
    "indi_mean = netflix['India'].mean()\n",
    "indi_mean"
   ]
  },
  {
   "cell_type": "code",
   "execution_count": 128,
   "metadata": {},
   "outputs": [
    {
     "data": {
      "text/plain": [
       "0.20178041543026706"
      ]
     },
     "execution_count": 128,
     "metadata": {},
     "output_type": "execute_result"
    }
   ],
   "source": [
    "indi_2018_mean = netflix.loc[netflix['year_added'] == 2018, 'India'].mean()\n",
    "indi_2018_mean"
   ]
  },
  {
   "cell_type": "code",
   "execution_count": 129,
   "metadata": {},
   "outputs": [
    {
     "data": {
      "text/plain": [
       "0.40132914095422806"
      ]
     },
     "execution_count": 129,
     "metadata": {},
     "output_type": "execute_result"
    }
   ],
   "source": [
    "indi_2018_mean_std = np.std(netflix.loc[netflix['year_added'] == 2018, 'India'])\n",
    "indi_2018_mean_std"
   ]
  },
  {
   "cell_type": "code",
   "execution_count": 132,
   "metadata": {},
   "outputs": [
    {
     "data": {
      "text/plain": [
       "340"
      ]
     },
     "execution_count": 132,
     "metadata": {},
     "output_type": "execute_result"
    }
   ],
   "source": [
    "indi_2018_n = netflix.loc[netflix['year_added'] == 2018, 'India'].sum()\n",
    "indi_2018_n"
   ]
  },
  {
   "cell_type": "code",
   "execution_count": 135,
   "metadata": {},
   "outputs": [
    {
     "data": {
      "text/plain": [
       "3.8249041512197106"
      ]
     },
     "execution_count": 135,
     "metadata": {},
     "output_type": "execute_result"
    }
   ],
   "source": [
    "t_indi_2018 = (indi_2018_mean - indi_mean) * np.sqrt(indi_2018_n) / indi_2018_mean_std\n",
    "t_indi_2018"
   ]
  },
  {
   "cell_type": "markdown",
   "metadata": {},
   "source": [
    "t критическое для таких значений ~ 1,967 < 3.82. Нулевая гипотеза отвергается."
   ]
  },
  {
   "cell_type": "code",
   "execution_count": 123,
   "metadata": {},
   "outputs": [
    {
     "data": {
      "text/html": [
       "<div>\n",
       "<style scoped>\n",
       "    .dataframe tbody tr th:only-of-type {\n",
       "        vertical-align: middle;\n",
       "    }\n",
       "\n",
       "    .dataframe tbody tr th {\n",
       "        vertical-align: top;\n",
       "    }\n",
       "\n",
       "    .dataframe thead th {\n",
       "        text-align: right;\n",
       "    }\n",
       "</style>\n",
       "<table border=\"1\" class=\"dataframe\">\n",
       "  <thead>\n",
       "    <tr style=\"text-align: right;\">\n",
       "      <th></th>\n",
       "      <th>year_added</th>\n",
       "      <th>asia</th>\n",
       "      <th>Korea</th>\n",
       "      <th>Japan</th>\n",
       "      <th>India</th>\n",
       "      <th>China</th>\n",
       "      <th>total</th>\n",
       "      <th>asia_pct</th>\n",
       "      <th>korea_pct</th>\n",
       "      <th>india_pct</th>\n",
       "    </tr>\n",
       "  </thead>\n",
       "  <tbody>\n",
       "    <tr>\n",
       "      <th>0</th>\n",
       "      <td>2008</td>\n",
       "      <td>0</td>\n",
       "      <td>0</td>\n",
       "      <td>0</td>\n",
       "      <td>0</td>\n",
       "      <td>0</td>\n",
       "      <td>2</td>\n",
       "      <td>0.000000</td>\n",
       "      <td>0.000000</td>\n",
       "      <td>0.000000</td>\n",
       "    </tr>\n",
       "    <tr>\n",
       "      <th>1</th>\n",
       "      <td>2009</td>\n",
       "      <td>0</td>\n",
       "      <td>0</td>\n",
       "      <td>0</td>\n",
       "      <td>0</td>\n",
       "      <td>0</td>\n",
       "      <td>2</td>\n",
       "      <td>0.000000</td>\n",
       "      <td>0.000000</td>\n",
       "      <td>0.000000</td>\n",
       "    </tr>\n",
       "    <tr>\n",
       "      <th>2</th>\n",
       "      <td>2010</td>\n",
       "      <td>0</td>\n",
       "      <td>0</td>\n",
       "      <td>0</td>\n",
       "      <td>0</td>\n",
       "      <td>0</td>\n",
       "      <td>1</td>\n",
       "      <td>0.000000</td>\n",
       "      <td>0.000000</td>\n",
       "      <td>0.000000</td>\n",
       "    </tr>\n",
       "    <tr>\n",
       "      <th>3</th>\n",
       "      <td>2011</td>\n",
       "      <td>0</td>\n",
       "      <td>0</td>\n",
       "      <td>0</td>\n",
       "      <td>0</td>\n",
       "      <td>0</td>\n",
       "      <td>13</td>\n",
       "      <td>0.000000</td>\n",
       "      <td>0.000000</td>\n",
       "      <td>0.000000</td>\n",
       "    </tr>\n",
       "    <tr>\n",
       "      <th>4</th>\n",
       "      <td>2012</td>\n",
       "      <td>0</td>\n",
       "      <td>0</td>\n",
       "      <td>0</td>\n",
       "      <td>0</td>\n",
       "      <td>0</td>\n",
       "      <td>3</td>\n",
       "      <td>0.000000</td>\n",
       "      <td>0.000000</td>\n",
       "      <td>0.000000</td>\n",
       "    </tr>\n",
       "    <tr>\n",
       "      <th>5</th>\n",
       "      <td>2013</td>\n",
       "      <td>0</td>\n",
       "      <td>0</td>\n",
       "      <td>0</td>\n",
       "      <td>0</td>\n",
       "      <td>0</td>\n",
       "      <td>11</td>\n",
       "      <td>0.000000</td>\n",
       "      <td>0.000000</td>\n",
       "      <td>0.000000</td>\n",
       "    </tr>\n",
       "    <tr>\n",
       "      <th>6</th>\n",
       "      <td>2014</td>\n",
       "      <td>0</td>\n",
       "      <td>0</td>\n",
       "      <td>0</td>\n",
       "      <td>0</td>\n",
       "      <td>0</td>\n",
       "      <td>25</td>\n",
       "      <td>0.000000</td>\n",
       "      <td>0.000000</td>\n",
       "      <td>0.000000</td>\n",
       "    </tr>\n",
       "    <tr>\n",
       "      <th>7</th>\n",
       "      <td>2015</td>\n",
       "      <td>1</td>\n",
       "      <td>0</td>\n",
       "      <td>1</td>\n",
       "      <td>0</td>\n",
       "      <td>0</td>\n",
       "      <td>88</td>\n",
       "      <td>0.011364</td>\n",
       "      <td>0.000000</td>\n",
       "      <td>0.000000</td>\n",
       "    </tr>\n",
       "    <tr>\n",
       "      <th>8</th>\n",
       "      <td>2016</td>\n",
       "      <td>40</td>\n",
       "      <td>9</td>\n",
       "      <td>17</td>\n",
       "      <td>11</td>\n",
       "      <td>3</td>\n",
       "      <td>443</td>\n",
       "      <td>0.090293</td>\n",
       "      <td>0.020316</td>\n",
       "      <td>0.024831</td>\n",
       "    </tr>\n",
       "    <tr>\n",
       "      <th>9</th>\n",
       "      <td>2017</td>\n",
       "      <td>233</td>\n",
       "      <td>41</td>\n",
       "      <td>35</td>\n",
       "      <td>143</td>\n",
       "      <td>14</td>\n",
       "      <td>1225</td>\n",
       "      <td>0.190204</td>\n",
       "      <td>0.033469</td>\n",
       "      <td>0.116735</td>\n",
       "    </tr>\n",
       "    <tr>\n",
       "      <th>10</th>\n",
       "      <td>2018</td>\n",
       "      <td>421</td>\n",
       "      <td>25</td>\n",
       "      <td>39</td>\n",
       "      <td>340</td>\n",
       "      <td>17</td>\n",
       "      <td>1685</td>\n",
       "      <td>0.249852</td>\n",
       "      <td>0.014837</td>\n",
       "      <td>0.201780</td>\n",
       "    </tr>\n",
       "    <tr>\n",
       "      <th>11</th>\n",
       "      <td>2019</td>\n",
       "      <td>363</td>\n",
       "      <td>58</td>\n",
       "      <td>63</td>\n",
       "      <td>225</td>\n",
       "      <td>17</td>\n",
       "      <td>2163</td>\n",
       "      <td>0.167822</td>\n",
       "      <td>0.026815</td>\n",
       "      <td>0.104022</td>\n",
       "    </tr>\n",
       "    <tr>\n",
       "      <th>12</th>\n",
       "      <td>2020</td>\n",
       "      <td>317</td>\n",
       "      <td>49</td>\n",
       "      <td>70</td>\n",
       "      <td>192</td>\n",
       "      <td>6</td>\n",
       "      <td>2009</td>\n",
       "      <td>0.157790</td>\n",
       "      <td>0.024390</td>\n",
       "      <td>0.095570</td>\n",
       "    </tr>\n",
       "    <tr>\n",
       "      <th>13</th>\n",
       "      <td>2021</td>\n",
       "      <td>14</td>\n",
       "      <td>1</td>\n",
       "      <td>1</td>\n",
       "      <td>12</td>\n",
       "      <td>0</td>\n",
       "      <td>117</td>\n",
       "      <td>0.119658</td>\n",
       "      <td>0.008547</td>\n",
       "      <td>0.102564</td>\n",
       "    </tr>\n",
       "  </tbody>\n",
       "</table>\n",
       "</div>"
      ],
      "text/plain": [
       "    year_added  asia  Korea  Japan  India  China  total  asia_pct  korea_pct  \\\n",
       "0         2008     0      0      0      0      0      2  0.000000   0.000000   \n",
       "1         2009     0      0      0      0      0      2  0.000000   0.000000   \n",
       "2         2010     0      0      0      0      0      1  0.000000   0.000000   \n",
       "3         2011     0      0      0      0      0     13  0.000000   0.000000   \n",
       "4         2012     0      0      0      0      0      3  0.000000   0.000000   \n",
       "5         2013     0      0      0      0      0     11  0.000000   0.000000   \n",
       "6         2014     0      0      0      0      0     25  0.000000   0.000000   \n",
       "7         2015     1      0      1      0      0     88  0.011364   0.000000   \n",
       "8         2016    40      9     17     11      3    443  0.090293   0.020316   \n",
       "9         2017   233     41     35    143     14   1225  0.190204   0.033469   \n",
       "10        2018   421     25     39    340     17   1685  0.249852   0.014837   \n",
       "11        2019   363     58     63    225     17   2163  0.167822   0.026815   \n",
       "12        2020   317     49     70    192      6   2009  0.157790   0.024390   \n",
       "13        2021    14      1      1     12      0    117  0.119658   0.008547   \n",
       "\n",
       "    india_pct  \n",
       "0    0.000000  \n",
       "1    0.000000  \n",
       "2    0.000000  \n",
       "3    0.000000  \n",
       "4    0.000000  \n",
       "5    0.000000  \n",
       "6    0.000000  \n",
       "7    0.000000  \n",
       "8    0.024831  \n",
       "9    0.116735  \n",
       "10   0.201780  \n",
       "11   0.104022  \n",
       "12   0.095570  \n",
       "13   0.102564  "
      ]
     },
     "execution_count": 123,
     "metadata": {},
     "output_type": "execute_result"
    }
   ],
   "source": [
    "by_years = netflix.groupby('year_added').sum()\n",
    "by_years['asia_pct'] = by_years['asia'] / by_years['total']\n",
    "by_years['korea_pct'] = by_years['Korea'] / by_years['total']\n",
    "by_years['india_pct'] = by_years['India'] / by_years['total']\n",
    "by_years.reset_index(inplace=True)\n",
    "by_years"
   ]
  },
  {
   "cell_type": "code",
   "execution_count": 113,
   "metadata": {},
   "outputs": [
    {
     "data": {
      "text/html": [
       "<div>\n",
       "<style scoped>\n",
       "    .dataframe tbody tr th:only-of-type {\n",
       "        vertical-align: middle;\n",
       "    }\n",
       "\n",
       "    .dataframe tbody tr th {\n",
       "        vertical-align: top;\n",
       "    }\n",
       "\n",
       "    .dataframe thead th {\n",
       "        text-align: right;\n",
       "    }\n",
       "</style>\n",
       "<table border=\"1\" class=\"dataframe\">\n",
       "  <thead>\n",
       "    <tr style=\"text-align: right;\">\n",
       "      <th></th>\n",
       "      <th>year_added</th>\n",
       "      <th>asia</th>\n",
       "      <th>Korea</th>\n",
       "      <th>Japan</th>\n",
       "      <th>India</th>\n",
       "      <th>China</th>\n",
       "      <th>total</th>\n",
       "      <th>asia_pct</th>\n",
       "      <th>korea_pct</th>\n",
       "      <th>india_pct</th>\n",
       "    </tr>\n",
       "  </thead>\n",
       "  <tbody>\n",
       "    <tr>\n",
       "      <th>7</th>\n",
       "      <td>2015</td>\n",
       "      <td>1</td>\n",
       "      <td>0</td>\n",
       "      <td>1</td>\n",
       "      <td>0</td>\n",
       "      <td>0</td>\n",
       "      <td>88</td>\n",
       "      <td>0.011364</td>\n",
       "      <td>0.000000</td>\n",
       "      <td>0.000000</td>\n",
       "    </tr>\n",
       "    <tr>\n",
       "      <th>8</th>\n",
       "      <td>2016</td>\n",
       "      <td>40</td>\n",
       "      <td>9</td>\n",
       "      <td>17</td>\n",
       "      <td>11</td>\n",
       "      <td>3</td>\n",
       "      <td>443</td>\n",
       "      <td>0.090293</td>\n",
       "      <td>0.020316</td>\n",
       "      <td>0.024831</td>\n",
       "    </tr>\n",
       "    <tr>\n",
       "      <th>9</th>\n",
       "      <td>2017</td>\n",
       "      <td>233</td>\n",
       "      <td>41</td>\n",
       "      <td>35</td>\n",
       "      <td>143</td>\n",
       "      <td>14</td>\n",
       "      <td>1225</td>\n",
       "      <td>0.190204</td>\n",
       "      <td>0.033469</td>\n",
       "      <td>0.116735</td>\n",
       "    </tr>\n",
       "    <tr>\n",
       "      <th>10</th>\n",
       "      <td>2018</td>\n",
       "      <td>421</td>\n",
       "      <td>25</td>\n",
       "      <td>39</td>\n",
       "      <td>340</td>\n",
       "      <td>17</td>\n",
       "      <td>1685</td>\n",
       "      <td>0.249852</td>\n",
       "      <td>0.014837</td>\n",
       "      <td>0.201780</td>\n",
       "    </tr>\n",
       "    <tr>\n",
       "      <th>11</th>\n",
       "      <td>2019</td>\n",
       "      <td>363</td>\n",
       "      <td>58</td>\n",
       "      <td>63</td>\n",
       "      <td>225</td>\n",
       "      <td>17</td>\n",
       "      <td>2163</td>\n",
       "      <td>0.167822</td>\n",
       "      <td>0.026815</td>\n",
       "      <td>0.104022</td>\n",
       "    </tr>\n",
       "    <tr>\n",
       "      <th>12</th>\n",
       "      <td>2020</td>\n",
       "      <td>317</td>\n",
       "      <td>49</td>\n",
       "      <td>70</td>\n",
       "      <td>192</td>\n",
       "      <td>6</td>\n",
       "      <td>2009</td>\n",
       "      <td>0.157790</td>\n",
       "      <td>0.024390</td>\n",
       "      <td>0.095570</td>\n",
       "    </tr>\n",
       "    <tr>\n",
       "      <th>13</th>\n",
       "      <td>2021</td>\n",
       "      <td>14</td>\n",
       "      <td>1</td>\n",
       "      <td>1</td>\n",
       "      <td>12</td>\n",
       "      <td>0</td>\n",
       "      <td>117</td>\n",
       "      <td>0.119658</td>\n",
       "      <td>0.008547</td>\n",
       "      <td>0.102564</td>\n",
       "    </tr>\n",
       "  </tbody>\n",
       "</table>\n",
       "</div>"
      ],
      "text/plain": [
       "    year_added  asia  Korea  Japan  India  China  total  asia_pct  korea_pct  \\\n",
       "7         2015     1      0      1      0      0     88  0.011364   0.000000   \n",
       "8         2016    40      9     17     11      3    443  0.090293   0.020316   \n",
       "9         2017   233     41     35    143     14   1225  0.190204   0.033469   \n",
       "10        2018   421     25     39    340     17   1685  0.249852   0.014837   \n",
       "11        2019   363     58     63    225     17   2163  0.167822   0.026815   \n",
       "12        2020   317     49     70    192      6   2009  0.157790   0.024390   \n",
       "13        2021    14      1      1     12      0    117  0.119658   0.008547   \n",
       "\n",
       "    india_pct  \n",
       "7    0.000000  \n",
       "8    0.024831  \n",
       "9    0.116735  \n",
       "10   0.201780  \n",
       "11   0.104022  \n",
       "12   0.095570  \n",
       "13   0.102564  "
      ]
     },
     "execution_count": 113,
     "metadata": {},
     "output_type": "execute_result"
    }
   ],
   "source": [
    "by_years = by_years[by_years['year_added'] > 2014]\n",
    "by_years"
   ]
  },
  {
   "cell_type": "code",
   "execution_count": 118,
   "metadata": {},
   "outputs": [
    {
     "data": {
      "text/plain": [
       "<matplotlib.axes._subplots.AxesSubplot at 0x262d8bd5280>"
      ]
     },
     "execution_count": 118,
     "metadata": {},
     "output_type": "execute_result"
    },
    {
     "data": {
      "image/png": "[encoded data removed]",
      "text/plain": [
       "<Figure size 1152x648 with 1 Axes>"
      ]
     },
     "metadata": {
      "needs_background": "light"
     },
     "output_type": "display_data"
    }
   ],
   "source": [
    "by_years[['asia_pct', 'korea_pct', 'india_pct']].plot(figsize=(16, 9))"
   ]
  }
 ],
 "metadata": {
  "kernelspec": {
   "display_name": "Python 3",
   "language": "python",
   "name": "python3"
  },
  "language_info": {
   "codemirror_mode": {
    "name": "ipython",
    "version": 3
   },
   "file_extension": ".py",
   "mimetype": "text/x-python",
   "name": "python",
   "nbconvert_exporter": "python",
   "pygments_lexer": "ipython3",
   "version": "3.8.3"
  }
 },
 "nbformat": 4,
 "nbformat_minor": 4
}
